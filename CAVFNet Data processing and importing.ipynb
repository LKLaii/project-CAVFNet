{
 "cells": [
  {
   "cell_type": "code",
   "execution_count": null,
   "id": "9a224b38",
   "metadata": {},
   "outputs": [],
   "source": [
    "import numpy as np\n",
    "import pandas as pd\n",
    "import scipy.io as io\n",
    "import sklearn\n",
    "import seaborn as sns\n",
    "import time\n",
    "from tqdm import tqdm\n",
    "import os\n",
    "import pickle\n",
    "\n",
    "import paddle\n",
    "import paddle.nn as nn\n",
    "import paddle.nn.functional as F\n",
    "from paddle.io import Dataset\n",
    "from paddle.io import DataLoader\n",
    "from paddle.io import TensorDataset\n"
   ]
  },
  {
   "cell_type": "code",
   "execution_count": null,
   "id": "80d8acb7",
   "metadata": {},
   "outputs": [],
   "source": [
    "def Normalization(x):\n",
    "    xx=[]\n",
    "    for i in x:\n",
    "        xx.append(np.array((i - i.mean()) / i.std()))\n",
    "    return np.array(xx)\n",
    "\n",
    "def data_split(mat, test_size = 0.25, use_normal = False,decline_clas=False, verbose=1):\n",
    "    datav = mat['vib']\n",
    "    datac = mat['cur2']\n",
    "    data = np.concatenate((datav,datac),axis=1)\n",
    "    y = mat['label']  \n",
    "    if decline_clas:\n",
    "        data = data[:480*8]\n",
    "        y = y[:480*8]\n",
    "\n",
    "    if use_normal:\n",
    "        data = Normalization(data)\n",
    "    data = np.expand_dims(data,axis=1)\n",
    "    x_train, x_test,y_train, y_test = train_test_split(data,y, \n",
    "                    test_size = test_size, random_state = 1314, shuffle = True ,stratify=y)\n",
    "    x_train = paddle.cast(paddle.to_tensor(x_train), dtype='float32')\n",
    "    y_train = (paddle.cast(paddle.to_tensor(y_train), dtype='int64')) \n",
    "    x_test = paddle.cast(paddle.to_tensor(x_test), dtype='float32')\n",
    "    y_test = (paddle.cast(paddle.to_tensor(y_test), dtype='int64')) \n",
    "    train_Dataset = TensorDataset([paddle.to_tensor(x_train), paddle.to_tensor(y_train)])\n",
    "    test_Dataset = TensorDataset([paddle.to_tensor(x_test), paddle.to_tensor(y_test)])\n",
    "    if verbose==1:\n",
    "        print('train example: ',x_train.shape,'\\n','test example: ',x_test.shape)\n",
    "    return train_Dataset, test_Dataset"
   ]
  },
  {
   "cell_type": "code",
   "execution_count": null,
   "id": "a9cf2fed",
   "metadata": {},
   "outputs": [],
   "source": [
    "train_dataset, test_dataset = data_split(mat4, test_size = 0.25, use_normal = False, decline_clas=False, verbose=1)"
   ]
  },
  {
   "cell_type": "code",
   "execution_count": null,
   "id": "05291e63",
   "metadata": {},
   "outputs": [],
   "source": []
  }
 ],
 "metadata": {
  "kernelspec": {
   "display_name": "Python 3 (ipykernel)",
   "language": "python",
   "name": "python3"
  },
  "language_info": {
   "codemirror_mode": {
    "name": "ipython",
    "version": 3
   },
   "file_extension": ".py",
   "mimetype": "text/x-python",
   "name": "python",
   "nbconvert_exporter": "python",
   "pygments_lexer": "ipython3",
   "version": "3.9.7"
  }
 },
 "nbformat": 4,
 "nbformat_minor": 5
}
